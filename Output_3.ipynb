{
 "cells": [
  {
   "cell_type": "code",
   "execution_count": 1,
   "metadata": {},
   "outputs": [],
   "source": [
    "import time\n",
    "import numpy as np\n",
    "import pandas as pd\n",
    "import matplotlib.pyplot as plt\n",
    "\n",
    "def Get_Score(D):\n",
    "    \n",
    "    DF=D.copy()\n",
    "    Score=[]\n",
    "    for i in range(14):\n",
    "\n",
    "        if DF.Eff[i]>1:\n",
    "            s=DF.r3[i]*(np.log(1+DF.Eff[i]))\n",
    "        else: s=0\n",
    "\n",
    "        Score=np.append(Score,s)\n",
    "\n",
    "    DF.insert(1,'Score',Score)\n",
    "    return DF\n",
    "\n",
    "def color_high_red(val):\n",
    "    \n",
    "    if val>0.5:\n",
    "        color = 'red' if val > 0.7 else 'orange'\n",
    "    else: color = 'black'\n",
    "    \n",
    "    return 'color: %s' % color\n",
    "\n",
    "def color_high_blue(val):\n",
    "\n",
    "    color = 'blue' if val > 1 else 'black'\n",
    "    return 'color: %s' % color\n",
    "\n",
    "\n",
    "def color(DF):\n",
    "    d=dict.fromkeys(DF.select_dtypes('float').columns, '{:.4f}')\n",
    "    return DF.style.applymap(color_high_red,subset=['r3']).applymap(color_high_blue,subset=['Eff']).format(d)\n",
    "\n",
    "def Line_Chart(DF,s='AdaBoost',save='AdaBoost_a_03.jpg'):\n",
    "    \n",
    "    fig = plt.figure(figsize=(15,8))\n",
    "    ax = plt.gca()\n",
    "    plt.xticks(np.arange(len(DF)))\n",
    "    plt.title(s)\n",
    "    DF.plot(kind='line',x='DataSetting',y='Aging_rate',ax=ax)\n",
    "    DF.plot(kind='line',x='DataSetting',y='r3', color='red', ax=ax)\n",
    "    DF.plot(kind='line',x='DataSetting',y='Eff', color='green', ax=ax)\n",
    "    plt.savefig(save)\n",
    "    plt.show()\n",
    "    \n",
    "def heatmapping(eva='r3'):\n",
    "    \n",
    "    agg_table=pd.concat([Ada,Ada_reg,Ada_reg_cont,XG,RF,NB,SVM],axis=1)[eva]\n",
    "    agg_table.index=[np.append(['A','B'],np.arange(1,13))]\n",
    "    agg_table.columns=['Ada','Ada_reg','Ada_reg_cont','XG','RF','NB','SVM']\n",
    "\n",
    "    import seaborn as sns\n",
    "    #%matplotlib inline\n",
    "\n",
    "    f, a = plt.subplots(figsize=(12,8))\n",
    "\n",
    "    #ax = plt.axes()\n",
    "    sns.heatmap(agg_table, annot=True, ax = a)\n",
    "    a.set_title('Testing : M2 M3 \\n\\n %s of DataSetting\\n' %eva,fontsize=15)   \n",
    "    plt.xlabel('\\nModels', fontsize = 15) \n",
    "    plt.ylabel('DataSetting\\n', fontsize = 15)\n",
    "    plt.show()"
   ]
  },
  {
   "cell_type": "code",
   "execution_count": 7,
   "metadata": {},
   "outputs": [],
   "source": [
    "i=0\n",
    "Ada=pd.read_csv('Ada_%s.csv' %i).iloc[:,1:]   \n",
    "XG=pd.read_csv('XG_%s.csv' %i).iloc[:,1:]    \n",
    "RF=pd.read_csv('RF_%s.csv' %i).iloc[:,1:]    \n",
    "NB=pd.read_csv('NB_%s.csv' %i).iloc[:,1:]  \n",
    "SVM=pd.read_csv('SVM_%s.csv' %i).iloc[:,1:]\n",
    "SVM=SVM.drop(['T1','T2','T3'],axis=1)\n",
    "Ada_reg=pd.read_csv('Ada_reg_%s.csv' %i).iloc[:,1:]\n",
    "Ada_reg_cont=pd.read_csv('Ada_reg_cont_%s.csv' %i).iloc[:,1:]\n",
    "\n",
    "Ada=Get_Score(Ada.fillna(0))\n",
    "XG=Get_Score(XG.fillna(0))\n",
    "RF=Get_Score(RF.fillna(0))\n",
    "NB=Get_Score(NB.fillna(0))\n",
    "SVM=Get_Score(SVM.fillna(0))\n",
    "Ada_reg=Get_Score(Ada_reg.fillna(0))\n",
    "Ada_reg_cont=Get_Score(Ada_reg_cont.fillna(0))"
   ]
  },
  {
   "cell_type": "code",
   "execution_count": 78,
   "metadata": {},
   "outputs": [],
   "source": [
    "%matplotlib widget"
   ]
  },
  {
   "cell_type": "code",
   "execution_count": 81,
   "metadata": {
    "scrolled": true
   },
   "outputs": [
    {
     "data": {
      "application/vnd.jupyter.widget-view+json": {
       "model_id": "90ee8266e94047c7b869e1e556c9bf38",
       "version_major": 2,
       "version_minor": 0
      },
      "text/plain": [
       "Canvas(toolbar=Toolbar(toolitems=[('Home', 'Reset original view', 'home', 'home'), ('Back', 'Back to previous …"
      ]
     },
     "metadata": {},
     "output_type": "display_data"
    },
    {
     "data": {
      "application/vnd.jupyter.widget-view+json": {
       "model_id": "6b7103e1731a4701a4189e82714b8d9a",
       "version_major": 2,
       "version_minor": 0
      },
      "text/plain": [
       "Canvas(toolbar=Toolbar(toolitems=[('Home', 'Reset original view', 'home', 'home'), ('Back', 'Back to previous …"
      ]
     },
     "metadata": {},
     "output_type": "display_data"
    },
    {
     "data": {
      "application/vnd.jupyter.widget-view+json": {
       "model_id": "e6b8b68f7fff4c3186fd19b993747067",
       "version_major": 2,
       "version_minor": 0
      },
      "text/plain": [
       "Canvas(toolbar=Toolbar(toolitems=[('Home', 'Reset original view', 'home', 'home'), ('Back', 'Back to previous …"
      ]
     },
     "metadata": {},
     "output_type": "display_data"
    },
    {
     "data": {
      "application/vnd.jupyter.widget-view+json": {
       "model_id": "7d66f0403eb84627b27ab65ce4e19107",
       "version_major": 2,
       "version_minor": 0
      },
      "text/plain": [
       "Canvas(toolbar=Toolbar(toolitems=[('Home', 'Reset original view', 'home', 'home'), ('Back', 'Back to previous …"
      ]
     },
     "metadata": {},
     "output_type": "display_data"
    }
   ],
   "source": [
    "for j in ['p3','r3','Aging_rate','Score']:\n",
    "    fig,ax = plt.subplots(figsize=(12,8))\n",
    "    c=['green','r','m','b']\n",
    "    style=['--','-']\n",
    "    a=[1,0.3]\n",
    "    w=[2,5]\n",
    "    count=1\n",
    "    names=[Ada,Ada_reg,Ada_reg_cont,XG,RF,NB,SVM]\n",
    "    lab=['AdaBoost','Ada_reg(D)','Ada_reg(C)','XgBoost','RandomForest','NaiveBayes','OneClassSVM']\n",
    "    \n",
    "    for i,k in zip(names,lab):\n",
    "        \n",
    "\n",
    "        model_list=i\n",
    "        Sub_df=model_list[['DataSetting',j]]\n",
    "        ax.plot(model_list.DataSetting,model_list[j].values,color=c[int(count/2)],linewidth=w[count%2],alpha=a[count%2],linestyle=style[count%2],label='%s'%k)\n",
    "        plt.plot(Sub_df.loc[Sub_df[j].idxmax()][0],Sub_df.loc[Sub_df[j].idxmax()][1],color=c[int(count/2)],marker='o',markersize=10)\n",
    "        count=count+1\n",
    "        \n",
    "    ax.legend(loc='upper right',bbox_to_anchor=(1.13,1))\n",
    "    plt.title('Testing : M2 M3 \\n\\n %s of DataSetting\\n' %j,fontsize=12)"
   ]
  },
  {
   "cell_type": "code",
   "execution_count": 86,
   "metadata": {},
   "outputs": [
    {
     "data": {
      "application/vnd.jupyter.widget-view+json": {
       "model_id": "540e5021f0c94e92b0ff3b377c6e40be",
       "version_major": 2,
       "version_minor": 0
      },
      "text/plain": [
       "Canvas(toolbar=Toolbar(toolitems=[('Home', 'Reset original view', 'home', 'home'), ('Back', 'Back to previous …"
      ]
     },
     "metadata": {},
     "output_type": "display_data"
    }
   ],
   "source": [
    "def f(x, y):\n",
    "    \n",
    "    if (x/y)>1:\n",
    "        s=(x) * np.log(1+x/y)\n",
    "    else:s=0\n",
    "    \n",
    "    return s\n",
    "\n",
    "def f(x, y):\n",
    "    return (x) * np.log(1+x/y)\n",
    " \n",
    "# 生成x,y的資料\n",
    "n = 256\n",
    "x = np.linspace(0.01, 1, n)\n",
    "y = np.linspace(0.01, 1, n)\n",
    " \n",
    "# 把x,y資料生成mesh網格狀的資料，因為等高線的顯示是在網格的基礎上新增上高度值\n",
    "X, Y = np.meshgrid(x, y)\n",
    "plt.figure(figsize=(14,8)) \n",
    "#plt.xtick(np.range(0.1,1,0.1))\n",
    "# 填充等高線\n",
    "c=plt.contourf(X, Y, f(X, Y),50,alpha=.5,cmap='hsv')\n",
    "plt.clabel(c, inline=True, fontsize=12,colors='r',levels=np.arange(0,1.4,0.1))\n",
    "cbar = plt.colorbar(c)\n",
    "plt.xticks(np.arange(0, 1.05, 0.05)) \n",
    "plt.yticks(np.arange(0, 1.05, 0.05))\n",
    "# 顯示圖表\n",
    "plt.show()"
   ]
  }
 ],
 "metadata": {
  "kernelspec": {
   "display_name": "Python 3",
   "language": "python",
   "name": "python3"
  },
  "language_info": {
   "codemirror_mode": {
    "name": "ipython",
    "version": 3
   },
   "file_extension": ".py",
   "mimetype": "text/x-python",
   "name": "python",
   "nbconvert_exporter": "python",
   "pygments_lexer": "ipython3",
   "version": "3.8.5"
  }
 },
 "nbformat": 4,
 "nbformat_minor": 4
}
